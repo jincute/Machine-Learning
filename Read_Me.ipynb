{
 "cells": [
  {
   "cell_type": "markdown",
   "metadata": {},
   "source": [
    "# Read Me"
   ]
  },
  {
   "cell_type": "markdown",
   "metadata": {},
   "source": [
    "This .ipynb is for the Kaggle in-class competition: \"Quick Draw\". \n",
    "\n",
    "The codes is designed to run on google Colab with GPU computation platform, yet it also works on local machine with only CPU supported. \n",
    "\n",
    "Before running this ipynb file, you should download the training and testing data. Please go to https://www.kaggle.com/c/ift3395-6390-f2018, download 4 data files: `train_images.npy`, `train_labels.csv`, `test_images.npy`, and `sample_submission.csv`, create a new folder named \"input\" in the directory where this .ipynb file is, and put the 4 files into the folder created.\n",
    "\n",
    "`pytorch 0.4.1` is selected as our machine learning modules; besides, codes are also relied on the following basic python libraries:\n",
    " - python 3.5.2, \n",
    " - numpy 1.14.2 \n",
    " - matplotlib 2.2.0, \n",
    " - torchvision 0.2.1\n",
    " \n",
    "Some other modules are also used yet not fully listed here.\n",
    "\n",
    "The whole ipynb is divided into the following 11 sections:\n",
    "\n",
    "- Support for Codes Running on Colab with GPU\n",
    "- Necessary Modules & Basic Tool Functions\n",
    "- Loading Original Data\n",
    "- Baseline model - Linear SVM\n",
    "- Data Pre-Processing\n",
    "- Data Augmentation\n",
    "- Models\n",
    "- Preparation for Training Competitative Models\n",
    "- Training Models\n",
    "- Performance Analysis\n",
    "- Testing Models on Test Dataset\n",
    "\n",
    "The first section gives us an access to use the Colab platform with high speed computation. If you encounter errors when running codes in this section, the following link could help you:\n",
    "- https://colab.research.google.com/\n",
    "- https://medium.com/deep-learning-turkey/google-colab-free-gpu-tutorial-e113627b9f5d\n",
    "\n",
    "The second section imports basic modules required and use GPU resources if available. If error occurs in this section, it is probably because some modules are not installed. If GPU is not available, CPU will be used. \n",
    "\n",
    "From the thrid section until to the end of the file, we built our codes by first implementing some methods, then use some codes to test and show the outputs of the methods to make sure these methods are well functioned. A global bool variant `SHOW_DEMO` is used to open or close these code blocks which is somehow like:\n",
    "\n",
    "    if USE_DEMO:\n",
    "        # codes here\n",
    "        pass\n",
    "        \n",
    "We recommend you set `SHOW_DEMO = True` for the first time running this ipynb, such that you have a good understanding of the role of each method we implemented. After you have a clear idea of all the methods, you may use `SHOW_DEMO = False` to skip all check codes, focus on the first cell in the section: **Training Models**, select `run before` in your notebook menus, and start one of the most exciting parts of the ipynb: training the best model we built for the competition.\n",
    "\n",
    "Without further due, let's start by executing the first code cell(line):\n",
    "\n",
    "    SHOW_DEMO = True\n",
    "    \n",
    "<br>\n",
    "   \n",
    "We hope you enjoy these codes.\n",
    "\n",
    "If you have any suggestions, contact: qqiangye@gmail.com\n",
    "\n",
    "License: BSD"
   ]
  },
  {
   "cell_type": "code",
   "execution_count": null,
   "metadata": {},
   "outputs": [],
   "source": []
  }
 ],
 "metadata": {
  "kernelspec": {
   "display_name": "Python 3",
   "language": "python",
   "name": "python3"
  },
  "language_info": {
   "codemirror_mode": {
    "name": "ipython",
    "version": 3
   },
   "file_extension": ".py",
   "mimetype": "text/x-python",
   "name": "python",
   "nbconvert_exporter": "python",
   "pygments_lexer": "ipython3",
   "version": "3.5.2"
  }
 },
 "nbformat": 4,
 "nbformat_minor": 2
}
